{
 "cells": [
  {
   "cell_type": "markdown",
   "id": "2009ee42",
   "metadata": {},
   "source": [
    "# Tasca M6 T01\n",
    "## Exercici 1\n",
    "Crea almenys dos models de regressió diferents per intentar predir el millor possible el preu de les vivendes (MEDV) de l'arxiu adjunt.\n",
    "\n",
    "Reutilizaré el procesamiento de datos realizado en el [ejercicio anterior](https://github.com/epili50/M5-T02.git)"
   ]
  },
  {
   "cell_type": "code",
   "execution_count": 1,
   "id": "f3d8f0d6",
   "metadata": {},
   "outputs": [],
   "source": [
    "import pandas as pd\n",
    "import numpy as np\n",
    "import matplotlib.pyplot as plt\n",
    "import seaborn as sns\n",
    "from sklearn import tree\n",
    "from sklearn.model_selection import train_test_split\n",
    "from sklearn.tree import DecisionTreeRegressor\n",
    "import warnings\n",
    "warnings.filterwarnings(\"ignore\")"
   ]
  },
  {
   "cell_type": "code",
   "execution_count": 2,
   "id": "de3fdf11",
   "metadata": {},
   "outputs": [
    {
     "data": {
      "text/html": [
       "<div>\n",
       "<style scoped>\n",
       "    .dataframe tbody tr th:only-of-type {\n",
       "        vertical-align: middle;\n",
       "    }\n",
       "\n",
       "    .dataframe tbody tr th {\n",
       "        vertical-align: top;\n",
       "    }\n",
       "\n",
       "    .dataframe thead th {\n",
       "        text-align: right;\n",
       "    }\n",
       "</style>\n",
       "<table border=\"1\" class=\"dataframe\">\n",
       "  <thead>\n",
       "    <tr style=\"text-align: right;\">\n",
       "      <th></th>\n",
       "      <th>CRIM</th>\n",
       "      <th>ZN</th>\n",
       "      <th>INDUS</th>\n",
       "      <th>CHAS</th>\n",
       "      <th>NOX</th>\n",
       "      <th>RM</th>\n",
       "      <th>AGE</th>\n",
       "      <th>DIS</th>\n",
       "      <th>RAD</th>\n",
       "      <th>TAX</th>\n",
       "      <th>PTRATIO</th>\n",
       "      <th>B</th>\n",
       "      <th>LSTAT</th>\n",
       "      <th>MEDV</th>\n",
       "    </tr>\n",
       "  </thead>\n",
       "  <tbody>\n",
       "    <tr>\n",
       "      <th>0</th>\n",
       "      <td>0.00632</td>\n",
       "      <td>18.0</td>\n",
       "      <td>2.31</td>\n",
       "      <td>0</td>\n",
       "      <td>0.538</td>\n",
       "      <td>6.575</td>\n",
       "      <td>65.2</td>\n",
       "      <td>4.0900</td>\n",
       "      <td>1</td>\n",
       "      <td>296.0</td>\n",
       "      <td>15.3</td>\n",
       "      <td>396.90</td>\n",
       "      <td>4.98</td>\n",
       "      <td>24.0</td>\n",
       "    </tr>\n",
       "    <tr>\n",
       "      <th>1</th>\n",
       "      <td>0.02731</td>\n",
       "      <td>0.0</td>\n",
       "      <td>7.07</td>\n",
       "      <td>0</td>\n",
       "      <td>0.469</td>\n",
       "      <td>6.421</td>\n",
       "      <td>78.9</td>\n",
       "      <td>4.9671</td>\n",
       "      <td>2</td>\n",
       "      <td>242.0</td>\n",
       "      <td>17.8</td>\n",
       "      <td>396.90</td>\n",
       "      <td>9.14</td>\n",
       "      <td>21.6</td>\n",
       "    </tr>\n",
       "    <tr>\n",
       "      <th>2</th>\n",
       "      <td>0.02729</td>\n",
       "      <td>0.0</td>\n",
       "      <td>7.07</td>\n",
       "      <td>0</td>\n",
       "      <td>0.469</td>\n",
       "      <td>7.185</td>\n",
       "      <td>61.1</td>\n",
       "      <td>4.9671</td>\n",
       "      <td>2</td>\n",
       "      <td>242.0</td>\n",
       "      <td>17.8</td>\n",
       "      <td>392.83</td>\n",
       "      <td>4.03</td>\n",
       "      <td>34.7</td>\n",
       "    </tr>\n",
       "    <tr>\n",
       "      <th>3</th>\n",
       "      <td>0.03237</td>\n",
       "      <td>0.0</td>\n",
       "      <td>2.18</td>\n",
       "      <td>0</td>\n",
       "      <td>0.458</td>\n",
       "      <td>6.998</td>\n",
       "      <td>45.8</td>\n",
       "      <td>6.0622</td>\n",
       "      <td>3</td>\n",
       "      <td>222.0</td>\n",
       "      <td>18.7</td>\n",
       "      <td>394.63</td>\n",
       "      <td>2.94</td>\n",
       "      <td>33.4</td>\n",
       "    </tr>\n",
       "    <tr>\n",
       "      <th>4</th>\n",
       "      <td>0.06905</td>\n",
       "      <td>0.0</td>\n",
       "      <td>2.18</td>\n",
       "      <td>0</td>\n",
       "      <td>0.458</td>\n",
       "      <td>7.147</td>\n",
       "      <td>54.2</td>\n",
       "      <td>6.0622</td>\n",
       "      <td>3</td>\n",
       "      <td>222.0</td>\n",
       "      <td>18.7</td>\n",
       "      <td>396.90</td>\n",
       "      <td>5.33</td>\n",
       "      <td>36.2</td>\n",
       "    </tr>\n",
       "  </tbody>\n",
       "</table>\n",
       "</div>"
      ],
      "text/plain": [
       "      CRIM    ZN  INDUS  CHAS    NOX     RM   AGE     DIS  RAD    TAX  \\\n",
       "0  0.00632  18.0   2.31     0  0.538  6.575  65.2  4.0900    1  296.0   \n",
       "1  0.02731   0.0   7.07     0  0.469  6.421  78.9  4.9671    2  242.0   \n",
       "2  0.02729   0.0   7.07     0  0.469  7.185  61.1  4.9671    2  242.0   \n",
       "3  0.03237   0.0   2.18     0  0.458  6.998  45.8  6.0622    3  222.0   \n",
       "4  0.06905   0.0   2.18     0  0.458  7.147  54.2  6.0622    3  222.0   \n",
       "\n",
       "   PTRATIO       B  LSTAT  MEDV  \n",
       "0     15.3  396.90   4.98  24.0  \n",
       "1     17.8  396.90   9.14  21.6  \n",
       "2     17.8  392.83   4.03  34.7  \n",
       "3     18.7  394.63   2.94  33.4  \n",
       "4     18.7  396.90   5.33  36.2  "
      ]
     },
     "execution_count": 2,
     "metadata": {},
     "output_type": "execute_result"
    }
   ],
   "source": [
    "df = df = pd.read_csv('housing data.csv', sep = ',', header = None)\n",
    "df.columns=['CRIM','ZN','INDUS', 'CHAS','NOX','RM', 'AGE','DIS','RAD', 'TAX','PTRATIO','B', 'LSTAT', 'MEDV']\n",
    "\n",
    "df.head()"
   ]
  },
  {
   "cell_type": "markdown",
   "id": "92f14a1f",
   "metadata": {},
   "source": [
    "Proceso los datos para adecuarlos al modelo"
   ]
  },
  {
   "cell_type": "code",
   "execution_count": 3,
   "id": "e04d09d6",
   "metadata": {},
   "outputs": [],
   "source": [
    "from sklearn import preprocessing \n",
    "\n",
    "#RobustScaler para las columnas con outliers\n",
    "columnsR = ['CRIM', 'ZN', 'RM', 'DIS', 'PTRATIO', 'B', 'LSTAT']\n",
    "scaler = preprocessing.RobustScaler().fit(df[columnsR])\n",
    "df[columnsR] = scaler.transform(df[columnsR])\n",
    "\n",
    "#Normalización para las columnas no gaussianas\n",
    "columnsN = ['INDUS', 'NOX', 'AGE', 'TAX']\n",
    "scalerNorm = preprocessing.MinMaxScaler().fit(df[columnsN])\n",
    "df[columnsN] = scalerNorm.transform(df[columnsN])"
   ]
  },
  {
   "cell_type": "markdown",
   "id": "59e18263",
   "metadata": {},
   "source": [
    "Divido entre features y target"
   ]
  },
  {
   "cell_type": "code",
   "execution_count": 4,
   "id": "884155bb",
   "metadata": {},
   "outputs": [
    {
     "data": {
      "text/html": [
       "<div>\n",
       "<style scoped>\n",
       "    .dataframe tbody tr th:only-of-type {\n",
       "        vertical-align: middle;\n",
       "    }\n",
       "\n",
       "    .dataframe tbody tr th {\n",
       "        vertical-align: top;\n",
       "    }\n",
       "\n",
       "    .dataframe thead th {\n",
       "        text-align: right;\n",
       "    }\n",
       "</style>\n",
       "<table border=\"1\" class=\"dataframe\">\n",
       "  <thead>\n",
       "    <tr style=\"text-align: right;\">\n",
       "      <th></th>\n",
       "      <th>MEDV</th>\n",
       "    </tr>\n",
       "  </thead>\n",
       "  <tbody>\n",
       "    <tr>\n",
       "      <th>0</th>\n",
       "      <td>24.0</td>\n",
       "    </tr>\n",
       "    <tr>\n",
       "      <th>1</th>\n",
       "      <td>21.6</td>\n",
       "    </tr>\n",
       "    <tr>\n",
       "      <th>2</th>\n",
       "      <td>34.7</td>\n",
       "    </tr>\n",
       "    <tr>\n",
       "      <th>3</th>\n",
       "      <td>33.4</td>\n",
       "    </tr>\n",
       "    <tr>\n",
       "      <th>4</th>\n",
       "      <td>36.2</td>\n",
       "    </tr>\n",
       "  </tbody>\n",
       "</table>\n",
       "</div>"
      ],
      "text/plain": [
       "   MEDV\n",
       "0  24.0\n",
       "1  21.6\n",
       "2  34.7\n",
       "3  33.4\n",
       "4  36.2"
      ]
     },
     "execution_count": 4,
     "metadata": {},
     "output_type": "execute_result"
    }
   ],
   "source": [
    "X = df.drop(['MEDV'],axis=1)\n",
    "y = df[['MEDV']]\n",
    "\n",
    "y.head()"
   ]
  },
  {
   "cell_type": "markdown",
   "id": "0431bb9d",
   "metadata": {},
   "source": [
    "Divido Train/Test"
   ]
  },
  {
   "cell_type": "code",
   "execution_count": 5,
   "id": "35f694ff",
   "metadata": {},
   "outputs": [
    {
     "name": "stdout",
     "output_type": "stream",
     "text": [
      "(404, 13) (102, 13) (404, 1) (102, 1)\n"
     ]
    }
   ],
   "source": [
    "X_train, X_test, y_train, y_test = train_test_split(X, y, random_state=0, train_size = 0.80)\n",
    "\n",
    "print(X_train.shape, X_test.shape, y_train.shape, y_test.shape)"
   ]
  },
  {
   "cell_type": "markdown",
   "id": "4d80ac8b",
   "metadata": {},
   "source": [
    "**Modelos**\n",
    "\n",
    "1º crearé el modelo de: Linear regression [Fuente](https://github.com/aina1997/MasterClassDS/blob/main/Introducci%C3%B3%20a%20la%20Intel%C2%B7lig%C3%A8ncia%20artificial/AI-Regression.ipynb)"
   ]
  },
  {
   "cell_type": "code",
   "execution_count": 6,
   "id": "80d9bd8b",
   "metadata": {},
   "outputs": [],
   "source": [
    "#Importo el modelo \n",
    "from sklearn.linear_model import LinearRegression"
   ]
  },
  {
   "cell_type": "code",
   "execution_count": 7,
   "id": "f6330e28",
   "metadata": {
    "run_control": {
     "marked": false
    }
   },
   "outputs": [],
   "source": [
    "#Instancializo el modelo y lo entreno\n",
    "lr = LinearRegression().fit(X_train, y_train)"
   ]
  },
  {
   "cell_type": "code",
   "execution_count": 8,
   "id": "602887f2",
   "metadata": {},
   "outputs": [
    {
     "data": {
      "text/plain": [
       "array([[24.88963777],\n",
       "       [23.72141085],\n",
       "       [29.36499868],\n",
       "       [12.12238621],\n",
       "       [21.44382254],\n",
       "       [19.2834443 ],\n",
       "       [20.49647539],\n",
       "       [21.36099298],\n",
       "       [18.8967118 ],\n",
       "       [19.9280658 ]])"
      ]
     },
     "execution_count": 8,
     "metadata": {},
     "output_type": "execute_result"
    }
   ],
   "source": [
    "#Defino la variable para predecir el objetivo del test (y_test) \n",
    "#dándole la información con la que no se ha entrenado (x_test)\n",
    "y_pred_lr = lr.predict(X_test)\n",
    "\n",
    "#Predigo los 10 primeros valores de MEDV (y_test)\n",
    "y_pred_lr[:10]"
   ]
  },
  {
   "cell_type": "markdown",
   "id": "dd7e2b7c",
   "metadata": {},
   "source": [
    "2º crearé un modelo de Randon Forest [Fuente](https://towardsdatascience.com/random-forest-in-python-24d0893d51c0)"
   ]
  },
  {
   "cell_type": "code",
   "execution_count": 9,
   "id": "c1bd522a",
   "metadata": {},
   "outputs": [],
   "source": [
    "#Importo el modelo \n",
    "from sklearn.ensemble import RandomForestRegressor"
   ]
  },
  {
   "cell_type": "code",
   "execution_count": 10,
   "id": "acc3619d",
   "metadata": {},
   "outputs": [
    {
     "data": {
      "text/plain": [
       "RandomForestRegressor()"
      ]
     },
     "execution_count": 10,
     "metadata": {},
     "output_type": "execute_result"
    }
   ],
   "source": [
    "#Instancializo el modelo y lo entreno\n",
    "rf = RandomForestRegressor()\n",
    "\n",
    "rf.fit(X_train, y_train)"
   ]
  },
  {
   "cell_type": "code",
   "execution_count": 11,
   "id": "ff0154da",
   "metadata": {},
   "outputs": [
    {
     "data": {
      "text/plain": [
       "array([24.011, 27.188, 21.845, 10.818, 20.797, 20.577, 21.146, 20.193,\n",
       "       20.584, 18.819])"
      ]
     },
     "execution_count": 11,
     "metadata": {},
     "output_type": "execute_result"
    }
   ],
   "source": [
    "#Defino la variable para predecir el objetivo del test (y_test) \n",
    "#dándole la información con la que no se ha entrenado (x_test)\n",
    "y_pred_rf = rf.predict(X_test)\n",
    "\n",
    "#Predigo los 10 primeros valores de MEDV (y_test)\n",
    "y_pred_rf[:10]"
   ]
  },
  {
   "cell_type": "markdown",
   "id": "97ead314",
   "metadata": {},
   "source": [
    "## Exercici 2\n",
    "Compara’ls en base al MSE i al R2."
   ]
  },
  {
   "cell_type": "code",
   "execution_count": 12,
   "id": "e8a9b9d0",
   "metadata": {},
   "outputs": [],
   "source": [
    "#Importo el evaluador r2\n",
    "from sklearn.metrics import r2_score\n",
    "\n",
    "#Instancializo r2 para ambos modelos\n",
    "r2_lr = r2_score(y_test, y_pred_lr)\n",
    "r2_rf = r2_score(y_test, y_pred_rf)"
   ]
  },
  {
   "cell_type": "code",
   "execution_count": 13,
   "id": "087b3bf7",
   "metadata": {},
   "outputs": [],
   "source": [
    "#Importo el evaluador MSE\n",
    "from sklearn.metrics import mean_squared_error\n",
    "\n",
    "#Instancializo MSE para ambos modelos\n",
    "mse_lr = mean_squared_error(y_test, y_pred_lr)\n",
    "mse_rf = mean_squared_error(y_test, y_pred_rf)"
   ]
  },
  {
   "cell_type": "code",
   "execution_count": 14,
   "id": "1fa48077",
   "metadata": {},
   "outputs": [
    {
     "data": {
      "text/html": [
       "<div>\n",
       "<style scoped>\n",
       "    .dataframe tbody tr th:only-of-type {\n",
       "        vertical-align: middle;\n",
       "    }\n",
       "\n",
       "    .dataframe tbody tr th {\n",
       "        vertical-align: top;\n",
       "    }\n",
       "\n",
       "    .dataframe thead th {\n",
       "        text-align: right;\n",
       "    }\n",
       "</style>\n",
       "<table border=\"1\" class=\"dataframe\">\n",
       "  <thead>\n",
       "    <tr style=\"text-align: right;\">\n",
       "      <th></th>\n",
       "      <th>Model</th>\n",
       "      <th>R2</th>\n",
       "      <th>MSE</th>\n",
       "    </tr>\n",
       "  </thead>\n",
       "  <tbody>\n",
       "    <tr>\n",
       "      <th>0</th>\n",
       "      <td>Linear Regression</td>\n",
       "      <td>0.589222</td>\n",
       "      <td>33.448980</td>\n",
       "    </tr>\n",
       "    <tr>\n",
       "      <th>1</th>\n",
       "      <td>Randon Forest</td>\n",
       "      <td>0.746556</td>\n",
       "      <td>20.637534</td>\n",
       "    </tr>\n",
       "  </tbody>\n",
       "</table>\n",
       "</div>"
      ],
      "text/plain": [
       "               Model        R2        MSE\n",
       "0  Linear Regression  0.589222  33.448980\n",
       "1      Randon Forest  0.746556  20.637534"
      ]
     },
     "execution_count": 14,
     "metadata": {},
     "output_type": "execute_result"
    }
   ],
   "source": [
    "metrics = pd.DataFrame( data = [['Linear Regression', r2_lr, mse_lr],\n",
    "                                  ['Randon Forest', r2_rf, mse_rf]],\n",
    "                                  columns = ['Model', 'R2', 'MSE'])\n",
    "metrics.head()"
   ]
  },
  {
   "cell_type": "markdown",
   "id": "ed7eace7",
   "metadata": {},
   "source": [
    "En esta primera prueba el método de Randon Forest se muestra más eficiente que el de Linear Regression, con un R2 del 72% contra el 58%, y con un error cuadrático más bajo (22 contra 33)."
   ]
  },
  {
   "cell_type": "markdown",
   "id": "08032266",
   "metadata": {},
   "source": [
    "## Exercici 3\n",
    "Entrena’ls utilitzant els diferents paràmetres que admeten per intentar millorar-ne la predicció.\n",
    "\n",
    "Extraje información de la siguiente [Fuente](https://towardsdatascience.com/hyperparameter-tuning-the-random-forest-in-python-using-scikit-learn-28d2aa77dd74) y del siguiente [Código](https://github.com/WillKoehrsen/Machine-Learning-Projects/blob/master/random_forest_explained/Improving%20Random%20Forest%20Part%202.ipynb) que pertenece al mismo autor"
   ]
  },
  {
   "cell_type": "code",
   "execution_count": 15,
   "id": "1bbefe9f",
   "metadata": {},
   "outputs": [
    {
     "data": {
      "text/plain": [
       "dict_keys(['bootstrap', 'ccp_alpha', 'criterion', 'max_depth', 'max_features', 'max_leaf_nodes', 'max_samples', 'min_impurity_decrease', 'min_impurity_split', 'min_samples_leaf', 'min_samples_split', 'min_weight_fraction_leaf', 'n_estimators', 'n_jobs', 'oob_score', 'random_state', 'verbose', 'warm_start'])"
      ]
     },
     "execution_count": 15,
     "metadata": {},
     "output_type": "execute_result"
    }
   ],
   "source": [
    "#parametros de randon forest\n",
    "rf.get_params().keys()"
   ]
  },
  {
   "cell_type": "code",
   "execution_count": 16,
   "id": "2e938fa6",
   "metadata": {},
   "outputs": [
    {
     "name": "stdout",
     "output_type": "stream",
     "text": [
      "Parámetros actualmente en uso:\n",
      "\n",
      "{'bootstrap': True,\n",
      " 'ccp_alpha': 0.0,\n",
      " 'criterion': 'mse',\n",
      " 'max_depth': None,\n",
      " 'max_features': 'auto',\n",
      " 'max_leaf_nodes': None,\n",
      " 'max_samples': None,\n",
      " 'min_impurity_decrease': 0.0,\n",
      " 'min_impurity_split': None,\n",
      " 'min_samples_leaf': 1,\n",
      " 'min_samples_split': 2,\n",
      " 'min_weight_fraction_leaf': 0.0,\n",
      " 'n_estimators': 100,\n",
      " 'n_jobs': None,\n",
      " 'oob_score': False,\n",
      " 'random_state': None,\n",
      " 'verbose': 0,\n",
      " 'warm_start': False}\n"
     ]
    }
   ],
   "source": [
    "from pprint import pprint\n",
    "\n",
    "# ver los Parámetros actualmente en uso\n",
    "print('Parámetros actualmente en uso:\\n')\n",
    "pprint(rf.get_params())"
   ]
  },
  {
   "cell_type": "code",
   "execution_count": 17,
   "id": "92491371",
   "metadata": {},
   "outputs": [
    {
     "name": "stdout",
     "output_type": "stream",
     "text": [
      "Fitting 5 folds for each of 100 candidates, totalling 500 fits\n"
     ]
    },
    {
     "data": {
      "text/plain": [
       "{'n_estimators': 800,\n",
       " 'min_samples_split': 2,\n",
       " 'min_samples_leaf': 1,\n",
       " 'max_features': 'auto',\n",
       " 'max_depth': 100,\n",
       " 'bootstrap': True}"
      ]
     },
     "execution_count": 17,
     "metadata": {},
     "output_type": "execute_result"
    }
   ],
   "source": [
    "from sklearn.model_selection import RandomizedSearchCV\n",
    "import warnings \n",
    "warnings.filterwarnings('ignore')\n",
    "\n",
    "n_estimators = [int(x) for x in np.linspace(start = 200, stop = 2000, num = 10)]\n",
    "max_features = ['auto', 'sqrt']\n",
    "max_depth = [int(x) for x in np.linspace(10, 110, num = 11)]\n",
    "max_depth.append(None)\n",
    "min_samples_split = [2, 5, 10]\n",
    "min_samples_leaf = [1, 2, 4]\n",
    "bootstrap = [True, False]\n",
    "\n",
    "\n",
    "random_grid = {'n_estimators': n_estimators,\n",
    "                'max_features': max_features,\n",
    "                'max_depth': max_depth,\n",
    "                'min_samples_split': min_samples_split,\n",
    "                'min_samples_leaf': min_samples_leaf,\n",
    "                'bootstrap': bootstrap}\n",
    "\n",
    "rf = RandomForestRegressor(random_state = 42)\n",
    "\n",
    "rf_random = RandomizedSearchCV(estimator = rf,\n",
    "                                param_distributions = random_grid,\n",
    "                                n_iter = 100, \n",
    "                                cv = 5, \n",
    "                                scoring='neg_mean_absolute_error', \n",
    "                                verbose=2, \n",
    "                                random_state=42, \n",
    "                                n_jobs = -1)\n",
    "\n",
    "\n",
    "rf_random.fit(X,y.values.ravel())\n",
    "\n",
    "rf_random.best_params_\n"
   ]
  },
  {
   "cell_type": "code",
   "execution_count": 18,
   "id": "f890ef7e",
   "metadata": {},
   "outputs": [
    {
     "name": "stdout",
     "output_type": "stream",
     "text": [
      "0.7710926177208358 18.6395708287378\n"
     ]
    }
   ],
   "source": [
    "rf_bp = RandomForestRegressor(n_estimators=800,random_state = 42, min_samples_split=2, min_samples_leaf=1, \n",
    "                              max_features='auto', max_depth=100, bootstrap= True).fit(X_train, y_train)\n",
    "y_pred_rf_bp = rf_bp.predict(X_test)\n",
    "\n",
    "r2_rf_bp = r2_score(y_test, y_pred_rf_bp)\n",
    "mse_rf_bp = mean_squared_error(y_test, y_pred_rf_bp)\n",
    "\n",
    "print(r2_rf_bp, mse_rf_bp)"
   ]
  },
  {
   "cell_type": "code",
   "execution_count": 19,
   "id": "0114ff18",
   "metadata": {},
   "outputs": [
    {
     "data": {
      "text/html": [
       "<div>\n",
       "<style scoped>\n",
       "    .dataframe tbody tr th:only-of-type {\n",
       "        vertical-align: middle;\n",
       "    }\n",
       "\n",
       "    .dataframe tbody tr th {\n",
       "        vertical-align: top;\n",
       "    }\n",
       "\n",
       "    .dataframe thead th {\n",
       "        text-align: right;\n",
       "    }\n",
       "</style>\n",
       "<table border=\"1\" class=\"dataframe\">\n",
       "  <thead>\n",
       "    <tr style=\"text-align: right;\">\n",
       "      <th></th>\n",
       "      <th>Model</th>\n",
       "      <th>R2</th>\n",
       "      <th>MSE</th>\n",
       "    </tr>\n",
       "  </thead>\n",
       "  <tbody>\n",
       "    <tr>\n",
       "      <th>0</th>\n",
       "      <td>Linear Regression</td>\n",
       "      <td>0.589222</td>\n",
       "      <td>33.448980</td>\n",
       "    </tr>\n",
       "    <tr>\n",
       "      <th>1</th>\n",
       "      <td>RF</td>\n",
       "      <td>0.746556</td>\n",
       "      <td>20.637534</td>\n",
       "    </tr>\n",
       "    <tr>\n",
       "      <th>2</th>\n",
       "      <td>RF Best Parameters</td>\n",
       "      <td>0.771093</td>\n",
       "      <td>18.639571</td>\n",
       "    </tr>\n",
       "  </tbody>\n",
       "</table>\n",
       "</div>"
      ],
      "text/plain": [
       "                Model        R2        MSE\n",
       "0   Linear Regression  0.589222  33.448980\n",
       "1                  RF  0.746556  20.637534\n",
       "2  RF Best Parameters  0.771093  18.639571"
      ]
     },
     "execution_count": 19,
     "metadata": {},
     "output_type": "execute_result"
    }
   ],
   "source": [
    "metrics = pd.DataFrame( data = [['Linear Regression', r2_lr, mse_lr],\n",
    "                                  ['RF', r2_rf, mse_rf],\n",
    "                                  ['RF Best Parameters', r2_rf_bp, mse_rf_bp]],\n",
    "                                  columns = ['Model', 'R2', 'MSE'])\n",
    "metrics.head()"
   ]
  },
  {
   "cell_type": "markdown",
   "id": "2fde6772",
   "metadata": {},
   "source": [
    "Conclusion: la búsqueda aleatoria de parámetros y su utilización mejora el modelo. "
   ]
  },
  {
   "cell_type": "markdown",
   "id": "caf62c31",
   "metadata": {},
   "source": [
    "## Exercici 4\n",
    "Compara el seu rendiment emprant l’aproximació traint/test o emprant totes les dades (validació interna)."
   ]
  },
  {
   "cell_type": "code",
   "execution_count": 20,
   "id": "e968d648",
   "metadata": {},
   "outputs": [],
   "source": [
    "from sklearn.model_selection import cross_val_score\n",
    "\n",
    "cv_lr = cross_val_score(lr, X, y, cv=5, scoring='r2')\n",
    "cv_rf = cross_val_score(rf, X, y, cv=5, scoring='r2')\n",
    "cv_rf_bp = cross_val_score(rf_bp, X, y, cv=5, scoring='r2')"
   ]
  },
  {
   "cell_type": "code",
   "execution_count": 21,
   "id": "3be4345d",
   "metadata": {},
   "outputs": [
    {
     "data": {
      "text/html": [
       "<div>\n",
       "<style scoped>\n",
       "    .dataframe tbody tr th:only-of-type {\n",
       "        vertical-align: middle;\n",
       "    }\n",
       "\n",
       "    .dataframe tbody tr th {\n",
       "        vertical-align: top;\n",
       "    }\n",
       "\n",
       "    .dataframe thead th {\n",
       "        text-align: right;\n",
       "    }\n",
       "</style>\n",
       "<table border=\"1\" class=\"dataframe\">\n",
       "  <thead>\n",
       "    <tr style=\"text-align: right;\">\n",
       "      <th></th>\n",
       "      <th>Model</th>\n",
       "      <th>R2</th>\n",
       "      <th>MSE</th>\n",
       "      <th>R2 con CV</th>\n",
       "    </tr>\n",
       "  </thead>\n",
       "  <tbody>\n",
       "    <tr>\n",
       "      <th>0</th>\n",
       "      <td>Linear Regression</td>\n",
       "      <td>0.589222</td>\n",
       "      <td>33.448980</td>\n",
       "      <td>0.353276</td>\n",
       "    </tr>\n",
       "    <tr>\n",
       "      <th>1</th>\n",
       "      <td>RF</td>\n",
       "      <td>0.746556</td>\n",
       "      <td>20.637534</td>\n",
       "      <td>0.627563</td>\n",
       "    </tr>\n",
       "    <tr>\n",
       "      <th>2</th>\n",
       "      <td>RF Best Parameters</td>\n",
       "      <td>0.771093</td>\n",
       "      <td>18.639571</td>\n",
       "      <td>0.627094</td>\n",
       "    </tr>\n",
       "  </tbody>\n",
       "</table>\n",
       "</div>"
      ],
      "text/plain": [
       "                Model        R2        MSE  R2 con CV\n",
       "0   Linear Regression  0.589222  33.448980   0.353276\n",
       "1                  RF  0.746556  20.637534   0.627563\n",
       "2  RF Best Parameters  0.771093  18.639571   0.627094"
      ]
     },
     "execution_count": 21,
     "metadata": {},
     "output_type": "execute_result"
    }
   ],
   "source": [
    "cv_mean = [cv_lr.mean(), cv_rf.mean(), cv_rf_bp.mean()]\n",
    "metrics['R2 con CV'] = cv_mean\n",
    "metrics.head()\n",
    "\n",
    "metrics.head()"
   ]
  },
  {
   "cell_type": "markdown",
   "id": "2e534c2d",
   "metadata": {},
   "source": [
    "Conclusión: la prueba de Cross Validation muestra que la utilización de mejores parámetros no es eficiente, y que  el modelo de Random Forest en general da buenos resultados. \n",
    "\n",
    "Quizás lo recomendable sea buscar otro modelo"
   ]
  },
  {
   "cell_type": "markdown",
   "id": "bee1c0dd",
   "metadata": {},
   "source": [
    "## Exercici 5\n",
    "No facis servir la variable del nombre d'habitacions (RM) a l’hora de fer prediccions."
   ]
  },
  {
   "cell_type": "code",
   "execution_count": 22,
   "id": "2906b6ab",
   "metadata": {},
   "outputs": [
    {
     "name": "stdout",
     "output_type": "stream",
     "text": [
      "(404, 12) (102, 12) (404, 1) (102, 1)\n"
     ]
    }
   ],
   "source": [
    "X2 = df.drop(['RM','MEDV'],axis=1)\n",
    "\n",
    "X2_train, X2_test, y_train, y_test = train_test_split(X2, y, random_state=0, train_size = 0.80)\n",
    "\n",
    "print(X2_train.shape, X2_test.shape, y_train.shape, y_test.shape)\n"
   ]
  },
  {
   "cell_type": "code",
   "execution_count": 23,
   "id": "55237699",
   "metadata": {
    "scrolled": true
   },
   "outputs": [
    {
     "name": "stdout",
     "output_type": "stream",
     "text": [
      "El resultado  r2 del modelo Linear Regression sin la variable RM es: 0.5251737706543536 \n",
      "El resultado  r2 del modelo Random Forest sin la variable RM es: 0.6181083680511996 \n",
      "El resultado  mse del modelo Linear Regression sin la variable RM es: 38.66435868126337 \n",
      "El resultado  mse del modelo Renadom Forest sin la variable RM es: 31.096839480392152\n"
     ]
    }
   ],
   "source": [
    "lr2 = LinearRegression().fit(X2_train, y_train)\n",
    "y_pred_lr2 = lr2.predict(X2_test)\n",
    "r2_lr2 = r2_score(y_test, y_pred_lr2)\n",
    "mse_lr2 = mean_squared_error(y_test, y_pred_lr2)\n",
    "\n",
    "rf2 = RandomForestRegressor().fit(X2_train, y_train)\n",
    "y_pred_rf2 = rf2.predict(X2_test)\n",
    "r2_rf2 = r2_score(y_test, y_pred_rf2)\n",
    "mse_rf2 = mean_squared_error(y_test, y_pred_rf2)\n",
    "\n",
    "\n",
    "print('El resultado  r2 del modelo Linear Regression sin la variable RM es:', r2_lr2,\n",
    "      '\\nEl resultado  r2 del modelo Random Forest sin la variable RM es:', r2_rf2,\n",
    "      '\\nEl resultado  mse del modelo Linear Regression sin la variable RM es:', mse_lr2,\n",
    "      '\\nEl resultado  mse del modelo Renadom Forest sin la variable RM es:',mse_rf2)"
   ]
  },
  {
   "cell_type": "markdown",
   "id": "32182dbc",
   "metadata": {},
   "source": [
    "Conclusión: Sin duda la variable RM (Número promedio de habitaciones por vivienda) es importante y quitarla empeora el modelo."
   ]
  }
 ],
 "metadata": {
  "hide_input": false,
  "kernelspec": {
   "display_name": "Python 3 (ipykernel)",
   "language": "python",
   "name": "python3"
  },
  "language_info": {
   "codemirror_mode": {
    "name": "ipython",
    "version": 3
   },
   "file_extension": ".py",
   "mimetype": "text/x-python",
   "name": "python",
   "nbconvert_exporter": "python",
   "pygments_lexer": "ipython3",
   "version": "3.9.7"
  },
  "nbTranslate": {
   "displayLangs": [
    "*"
   ],
   "hotkey": "alt-t",
   "langInMainMenu": true,
   "sourceLang": "en",
   "targetLang": "fr",
   "useGoogleTranslate": true
  },
  "toc": {
   "base_numbering": 1,
   "nav_menu": {},
   "number_sections": true,
   "sideBar": true,
   "skip_h1_title": false,
   "title_cell": "Table of Contents",
   "title_sidebar": "Contents",
   "toc_cell": false,
   "toc_position": {},
   "toc_section_display": true,
   "toc_window_display": false
  },
  "varInspector": {
   "cols": {
    "lenName": 16,
    "lenType": 16,
    "lenVar": 40
   },
   "kernels_config": {
    "python": {
     "delete_cmd_postfix": "",
     "delete_cmd_prefix": "del ",
     "library": "var_list.py",
     "varRefreshCmd": "print(var_dic_list())"
    },
    "r": {
     "delete_cmd_postfix": ") ",
     "delete_cmd_prefix": "rm(",
     "library": "var_list.r",
     "varRefreshCmd": "cat(var_dic_list()) "
    }
   },
   "types_to_exclude": [
    "module",
    "function",
    "builtin_function_or_method",
    "instance",
    "_Feature"
   ],
   "window_display": false
  }
 },
 "nbformat": 4,
 "nbformat_minor": 5
}
